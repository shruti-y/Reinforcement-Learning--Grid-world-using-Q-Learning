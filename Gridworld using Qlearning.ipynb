{
  "nbformat": 4,
  "nbformat_minor": 0,
  "metadata": {
    "colab": {
      "name": "OLCR_project-sy2662.ipynb",
      "provenance": [],
      "collapsed_sections": []
    },
    "kernelspec": {
      "name": "python3",
      "display_name": "Python 3"
    }
  },
  "cells": [
    {
      "cell_type": "markdown",
      "metadata": {
        "id": "y43V_WR09Qln",
        "colab_type": "text"
      },
      "source": [
        "The project has been done on Google Collaboratory\n",
        "\n"
      ]
    },
    {
      "cell_type": "code",
      "metadata": {
        "id": "dGMFsVBcnSiL",
        "colab_type": "code",
        "colab": {
          "base_uri": "https://localhost:8080/",
          "height": 101
        },
        "outputId": "408974f4-a63d-4134-e35f-363eafdf5ef6"
      },
      "source": [
        "!apt install imagemagick #For the ANIMATION part"
      ],
      "execution_count": 2,
      "outputs": [
        {
          "output_type": "stream",
          "text": [
            "Reading package lists... Done\n",
            "Building dependency tree       \n",
            "Reading state information... Done\n",
            "imagemagick is already the newest version (8:6.9.7.4+dfsg-16ubuntu6.8).\n",
            "0 upgraded, 0 newly installed, 0 to remove and 31 not upgraded.\n"
          ],
          "name": "stdout"
        }
      ]
    },
    {
      "cell_type": "markdown",
      "metadata": {
        "id": "FGhYmJW09N86",
        "colab_type": "text"
      },
      "source": [
        "Importing  libraries"
      ]
    },
    {
      "cell_type": "code",
      "metadata": {
        "id": "QdbmXs0RnUsd",
        "colab_type": "code",
        "colab": {}
      },
      "source": [
        "import numpy as np\n",
        "import warnings\n",
        "import matplotlib.pyplot as plt\n",
        "warnings.filterwarnings(\"ignore\")"
      ],
      "execution_count": 0,
      "outputs": []
    },
    {
      "cell_type": "markdown",
      "metadata": {
        "id": "P47viFO_9bib",
        "colab_type": "text"
      },
      "source": [
        "Here we are creating Reward and Transition Matrix to then pass to our Q-fn."
      ]
    },
    {
      "cell_type": "code",
      "metadata": {
        "id": "tNhvWdgunv6r",
        "colab_type": "code",
        "colab": {}
      },
      "source": [
        "def create_reward_matrix(grid, reward, small_penalty, large_penalty):  \n",
        "    row, col = np.shape(grid)\n",
        "    states = row*col  \n",
        "    \n",
        "    walls = (1 - grid)*large_penalty\n",
        "    path = grid*small_penalty\n",
        "    \n",
        "    combined = path + walls\n",
        "    combined[-1, -1] = reward           \n",
        "    reward_matrix = np.reshape(combined, states)\n",
        "    return reward_matrix"
      ],
      "execution_count": 0,
      "outputs": []
    },
    {
      "cell_type": "code",
      "metadata": {
        "id": "2Y4QoOKNkf9w",
        "colab_type": "code",
        "colab": {}
      },
      "source": [
        "def create_transition_matrix(grid, large_penalty, prob, reward_matrix):\n",
        "    row, col = np.shape(grid)\n",
        "    states = row*col\n",
        "    p = prob\n",
        "    q = (1 - prob)*0.5\n",
        "    \n",
        "    val_up = np.zeros((states, states))\n",
        "    val_left = np.zeros((states, states))\n",
        "    val_right = np.zeros((states, states))\n",
        "    val_down = np.zeros((states, states))\n",
        "    \n",
        "    wall_ind = np.where(reward_matrix == large_penalty)[0]\n",
        "\n",
        "    for i in range(states):\n",
        "        # Up\n",
        "        if (i - col) < 0 or (i - col) in wall_ind :\n",
        "            val_up[i, i] += p\n",
        "        else:\n",
        "            val_up[i, i - col] += p\n",
        "        \n",
        "        if i%col == 0 or (i - 1) in wall_ind:\n",
        "            val_up[i, i] += q\n",
        "        else:\n",
        "            val_up[i, i-1] += q\n",
        "        \n",
        "        if i%col == (col - 1) or (i + 1) in wall_ind:\n",
        "            val_up[i, i] += q\n",
        "        else:\n",
        "            val_up[i, i+1] += q\n",
        "            \n",
        "        # Down\n",
        "        if (i + col) > (states - 1) or (i + col) in wall_ind:\n",
        "            val_down[i, i] += p\n",
        "        else:\n",
        "            val_down[i, i + col] += p\n",
        "        \n",
        "        if i%col == 0 or (i - 1) in wall_ind:\n",
        "            val_down[i, i] += q\n",
        "        else:\n",
        "            val_down[i, i-1] += q\n",
        "        \n",
        "        if i%col == (col - 1) or (i + 1) in wall_ind:\n",
        "            val_down[i, i] += q\n",
        "        else:\n",
        "            val_down[i, i+1] += q\n",
        "            \n",
        "        # Left\n",
        "        if i%col == 0 or (i - 1) in wall_ind:\n",
        "            val_left[i, i] += p\n",
        "        else:\n",
        "            val_left[i, i-1] += p\n",
        "            \n",
        "        if (i - col) < 0 or (i - col) in wall_ind:\n",
        "            val_left[i, i] += q\n",
        "        else:\n",
        "            val_left[i, i - col] += q\n",
        "        \n",
        "        if (i + col) > (states - 1) or (i + col) in wall_ind:\n",
        "            val_left[i, i] += q\n",
        "        else:\n",
        "            val_left[i, i + col] += q\n",
        "        \n",
        "        # Right\n",
        "        if i%col == (col - 1) or (i + 1) in wall_ind:\n",
        "            val_right[i, i] += p\n",
        "        else:\n",
        "            val_right[i, i+1] += p\n",
        "            \n",
        "        if (i - col) < 0 or (i - col) in wall_ind:\n",
        "            val_right[i, i] += q\n",
        "        else:\n",
        "            val_right[i, i - col] += q\n",
        "        \n",
        "        if (i + col) > (states - 1) or (i + col) in wall_ind:\n",
        "            val_right[i, i] += q\n",
        "        else:\n",
        "            val_right[i, i + col] += q\n",
        "    \n",
        "    transition_matrix = [val_up, val_left, val_right, val_down] \n",
        "    \n",
        "    return transition_matrix\n"
      ],
      "execution_count": 0,
      "outputs": []
    },
    {
      "cell_type": "code",
      "metadata": {
        "id": "tSYItLKJn57o",
        "colab_type": "code",
        "colab": {}
      },
      "source": [
        "def computeDimensions(transition):\n",
        "    A = len(transition)\n",
        "    try:\n",
        "        if transition.ndim == 3:\n",
        "            S = transition.shape[1]\n",
        "        else:\n",
        "            S = transition[0].shape[0]\n",
        "    except AttributeError:\n",
        "        S = transition[0].shape[0]\n",
        "    return S, A"
      ],
      "execution_count": 0,
      "outputs": []
    },
    {
      "cell_type": "markdown",
      "metadata": {
        "id": "UByN52fx-clb",
        "colab_type": "text"
      },
      "source": [
        "This is our Q-learning class where the actual Q values are determined."
      ]
    },
    {
      "cell_type": "code",
      "metadata": {
        "id": "uZUxUTWln-iS",
        "colab_type": "code",
        "colab": {}
      },
      "source": [
        "class QLearning():\n",
        "\n",
        "    def __init__(self, transitions, reward, discount, alpha, epsilon = 0.5, \n",
        "                 decay = 1.0, n_iter = 50000):\n",
        "\n",
        "        self.max_iter = int(n_iter)\n",
        "        self.S, self.A = computeDimensions(transitions)\n",
        "        self.P = tuple(transitions[a] for a in range(self.A))\n",
        "\n",
        "        self.epsilon = epsilon\n",
        "        self.decay = decay\n",
        "\n",
        "        self.R = reward\n",
        "        self.discount = discount\n",
        "        self.alpha = alpha\n",
        "\n",
        "\n",
        "        # Initialisations\n",
        "        self.Q = np.zeros((self.S, self.A))\n",
        "        self.mean_diff = []\n",
        "\n",
        "    def Qfunc(self):\n",
        "        # Run the Q-learning algoritm.\n",
        "        diff = []\n",
        "\n",
        "        # initial state choice\n",
        "        s = 0 # np.random.randint(0, self.S)\n",
        "\n",
        "        for n in range(1, self.max_iter + 1):\n",
        "\n",
        "            # Reinitialisation of trajectories every 100 transitions\n",
        "            if (n % 100) == 0:\n",
        "                s = np.random.randint(0, self.S)\n",
        "\n",
        "            # Action choice \n",
        "            pn = np.random.random()\n",
        "            if pn < (1 - self.epsilon):\n",
        "                # optimal_action = self.Q[s, :].max()\n",
        "                a = self.Q[s, :].argmax()\n",
        "            else:\n",
        "                a = np.random.randint(0, self.A)\n",
        "            \n",
        "            self.epsilon *= self.decay\n",
        "            \n",
        "            # Simulating next state newstate and reward associated to <s,newstate,a>\n",
        "            p_newstate = np.random.random()\n",
        "            p = 0\n",
        "            newstate = -1\n",
        "            while (p < p_newstate) and (newstate < (self.S - 1)):\n",
        "                newstate = newstate + 1\n",
        "                p = p + self.P[a][s, newstate]\n",
        "\n",
        "            try:\n",
        "                r = self.R[a][s, newstate]\n",
        "            except IndexError:\n",
        "                try:\n",
        "                    r = self.R[s, a]\n",
        "                except IndexError:\n",
        "                    r = self.R[s]\n",
        "\n",
        "            # Updating the value of Q\n",
        "            # Decaying update coefficient (1/sqrt(n+2)) can be changed\n",
        "            qval = r + self.discount * self.Q[newstate, :].max() - self.Q[s, a]\n",
        "\n",
        "            nqval = self.alpha * qval\n",
        "            self.Q[s, a] = self.Q[s, a] + nqval\n",
        "\n",
        "            # current state is updated\n",
        "            s = newstate\n",
        "            \n",
        "            # Computing and saving maximal values of the Q variation\n",
        "            diff.append(np.absolute(nqval))\n",
        "\n",
        "            # Computing means all over maximal Q variations values\n",
        "            if len(diff) == 1000:\n",
        "                self.mean_diff.append(np.mean(diff))\n",
        "                diff = []\n",
        "\n",
        "            # compute the value function and the policy\n",
        "            self.V = self.Q.max(axis=1)\n",
        "            self.policy = self.Q.argmax(axis=1)\n",
        "        \n",
        "        self.V = tuple(self.V.tolist())\n",
        "        try:\n",
        "            self.policy = tuple(self.policy.tolist())\n",
        "        except AttributeError:\n",
        "            self.policy = tuple(self.policy)"
      ],
      "execution_count": 0,
      "outputs": []
    },
    {
      "cell_type": "code",
      "metadata": {
        "id": "af14fcasoEQK",
        "colab_type": "code",
        "colab": {
          "base_uri": "https://localhost:8080/",
          "height": 605
        },
        "outputId": "0d45d221-02ac-46a7-95af-7dbeb4dad9a6"
      },
      "source": [
        "grid =  np.array([\n",
        "    [ 1.,  0.,  1.,  0.,  0.,  1.,  1.],\n",
        "    [ 1.,  1.,  1.,  1.,  1.,  1.,  0.],\n",
        "    [ 1.,  0.,  0.,  1.,  1.,  1.,  0.],\n",
        "    [ 1.,  1.,  1.,  1.,  0.,  1.,  1.],\n",
        "    [ 1.,  0.,  1.,  0.,  1.,  1.,  1.],\n",
        "    [ 1.,  0.,  1.,  1.,  1.,  0.,  0.],\n",
        "    [ 1.,  1.,  1.,  0.,  1.,  1.,  1.]]) \n",
        "    \n",
        "reward_matrix = create_reward_matrix(grid, 1, -0.04, -0.75)\n",
        "transition_matrix = create_transition_matrix(grid, -0.75,  0.8, reward_matrix)\n",
        "\n",
        "print(\"Reward Matrix: \\n\", np.reshape(np.array(list(reward_matrix)), np.shape(grid)))\n",
        "print(\"\\nTransition Matrix:\\n\", transition_matrix)\n"
      ],
      "execution_count": 188,
      "outputs": [
        {
          "output_type": "stream",
          "text": [
            "Reward Matrix: \n",
            " [[-0.04 -0.75 -0.04 -0.75 -0.75 -0.04 -0.04]\n",
            " [-0.04 -0.04 -0.04 -0.04 -0.04 -0.04 -0.75]\n",
            " [-0.04 -0.75 -0.75 -0.04 -0.04 -0.04 -0.75]\n",
            " [-0.04 -0.04 -0.04 -0.04 -0.75 -0.04 -0.04]\n",
            " [-0.04 -0.75 -0.04 -0.75 -0.04 -0.04 -0.04]\n",
            " [-0.04 -0.75 -0.04 -0.04 -0.04 -0.75 -0.75]\n",
            " [-0.04 -0.04 -0.04 -0.75 -0.04 -0.04  1.  ]]\n",
            "\n",
            "Transition Matrix:\n",
            " [array([[1. , 0. , 0. , ..., 0. , 0. , 0. ],\n",
            "       [0.1, 0.8, 0.1, ..., 0. , 0. , 0. ],\n",
            "       [0. , 0. , 1. , ..., 0. , 0. , 0. ],\n",
            "       ...,\n",
            "       [0. , 0. , 0. , ..., 0.1, 0.1, 0. ],\n",
            "       [0. , 0. , 0. , ..., 0.1, 0.8, 0.1],\n",
            "       [0. , 0. , 0. , ..., 0. , 0.1, 0.9]]), array([[0.9, 0. , 0. , ..., 0. , 0. , 0. ],\n",
            "       [0.8, 0.1, 0. , ..., 0. , 0. , 0. ],\n",
            "       [0. , 0. , 0.9, ..., 0. , 0. , 0. ],\n",
            "       ...,\n",
            "       [0. , 0. , 0. , ..., 0.9, 0. , 0. ],\n",
            "       [0. , 0. , 0. , ..., 0.8, 0.2, 0. ],\n",
            "       [0. , 0. , 0. , ..., 0. , 0.8, 0.2]]), array([[0.9, 0. , 0. , ..., 0. , 0. , 0. ],\n",
            "       [0. , 0.1, 0.8, ..., 0. , 0. , 0. ],\n",
            "       [0. , 0. , 0.9, ..., 0. , 0. , 0. ],\n",
            "       ...,\n",
            "       [0. , 0. , 0. , ..., 0.1, 0.8, 0. ],\n",
            "       [0. , 0. , 0. , ..., 0. , 0.2, 0.8],\n",
            "       [0. , 0. , 0. , ..., 0. , 0. , 1. ]]), array([[0.2, 0. , 0. , ..., 0. , 0. , 0. ],\n",
            "       [0.1, 0. , 0.1, ..., 0. , 0. , 0. ],\n",
            "       [0. , 0. , 0.2, ..., 0. , 0. , 0. ],\n",
            "       ...,\n",
            "       [0. , 0. , 0. , ..., 0.9, 0.1, 0. ],\n",
            "       [0. , 0. , 0. , ..., 0.1, 0.8, 0.1],\n",
            "       [0. , 0. , 0. , ..., 0. , 0.1, 0.9]])]\n"
          ],
          "name": "stdout"
        }
      ]
    },
    {
      "cell_type": "code",
      "metadata": {
        "id": "7ApSgpjduYKL",
        "colab_type": "code",
        "colab": {
          "base_uri": "https://localhost:8080/",
          "height": 324
        },
        "outputId": "4c6e8bf0-8256-4937-b341-560c39ed831e"
      },
      "source": [
        "\n",
        "## grid diagram\n",
        "\n",
        "import matplotlib.pyplot as plt\n",
        "from matplotlib import colors\n",
        "fig = plt.figure(figsize=(5,5))\n",
        "\n",
        "ax = fig.add_subplot(111)\n",
        "ax.text(0.5, 0.5, 'Begin', ha='center', va='center',color='white',fontweight='bold')\n",
        "ax.text(6.5, 6.5, 'Goal', ha='center', va='center',color='white',fontweight='bold')\n",
        "cmap = colors.ListedColormap(['silver', 'black'])\n",
        "ax.pcolormesh(grid, cmap = cmap, zorder=1)\n",
        "ax.grid(True, color=\"grey\", lw=2)\n",
        "ax.text(0.5, 0.5, 'Begin', ha='center', va='center')\n",
        "ax.text(6.5, 6.5, 'Goal', ha='center', va='center')\n",
        "plt.axes().set_aspect('equal') \n",
        "plt.axes().invert_yaxis()\n",
        "plt.show()"
      ],
      "execution_count": 189,
      "outputs": [
        {
          "output_type": "display_data",
          "data": {
            "image/png": "[encoded data removed]",
            "text/plain": [
              "<Figure size 360x360 with 1 Axes>"
            ]
          },
          "metadata": {
            "tags": [],
            "needs_background": "light"
          }
        }
      ]
    },
    {
      "cell_type": "code",
      "metadata": {
        "id": "3eke-LvQoHlV",
        "colab_type": "code",
        "colab": {}
      },
      "source": [
        "gamma = 0.9 \n",
        "alpha = 0.3 \n",
        "eps = 0.5 \n",
        "decay = 1.0 \n",
        "\n",
        "def get_path(iters):\n",
        "  np.random.seed(1)\n",
        "  q = QLearning(transition_matrix, reward_matrix, gamma, alpha, eps, decay, iters)\n",
        "  q.Qfunc()\n",
        "\n",
        "  pol = np.reshape(np.array(list(q.policy)), np.shape(grid))\n",
        "  return get_path_from_policy(pol)\n",
        "\n",
        "def get_path_from_policy(pol):\n",
        "  print (pol)\n",
        "  path = [[0,0]]\n",
        "  i = 0\n",
        "  j = 0\n",
        "  while (i != np.shape(grid)[0] - 1 or j != np.shape(grid)[1] - 1):\n",
        "    if pol[i][j] == 3:\n",
        "      i += 1\n",
        "    elif pol[i][j] == 2:\n",
        "      j += 1\n",
        "    elif pol[i][j] == 1:\n",
        "      j -= 1\n",
        "    elif pol[i][j] == 0:\n",
        "      i -= 1\n",
        "    path.append([i,j])\n",
        "  return path\n",
        "\n"
      ],
      "execution_count": 0,
      "outputs": []
    },
    {
      "cell_type": "markdown",
      "metadata": {
        "id": "51ueGlf_ELZU",
        "colab_type": "text"
      },
      "source": [
        "Through this func we get the optimal path(q learnng is called through it)"
      ]
    },
    {
      "cell_type": "code",
      "metadata": {
        "id": "Yjhh_4ows_p6",
        "colab_type": "code",
        "colab": {
          "base_uri": "https://localhost:8080/",
          "height": 134
        },
        "outputId": "ccd9516e-8dfe-4b90-e56e-e94628c86d9b"
      },
      "source": [
        "path = get_path(50000)\n",
        "\n"
      ],
      "execution_count": 191,
      "outputs": [
        {
          "output_type": "stream",
          "text": [
            "[[3 1 3 1 3 3 1]\n",
            " [3 1 2 2 2 3 1]\n",
            " [3 1 2 2 2 3 3]\n",
            " [2 2 3 1 2 3 1]\n",
            " [0 2 3 2 3 1 1]\n",
            " [3 2 2 2 3 0 3]\n",
            " [2 2 0 0 2 2 2]]\n"
          ],
          "name": "stdout"
        }
      ]
    },
    {
      "cell_type": "code",
      "metadata": {
        "id": "V02_w_pFoTRp",
        "colab_type": "code",
        "colab": {
          "base_uri": "https://localhost:8080/",
          "height": 336
        },
        "outputId": "a4088297-2ef0-4451-c9b7-97383c405ad6"
      },
      "source": [
        "## Optimal Path diagram \n",
        "\n",
        "import matplotlib.pyplot as plt\n",
        "from matplotlib import colors\n",
        "fig = plt.figure(figsize=(5,5))\n",
        "ax = fig.add_subplot(111)\n",
        "\n",
        "path_grid = grid.copy()\n",
        "for idx in path:\n",
        "  c,r = idx[0], idx[1]\n",
        "  path_grid [c, r] = 2\n",
        "  ax.text(r+0.5, c+0.5, '--', ha='center', va='center')\n",
        "\n",
        "cmap = colors.ListedColormap(['silver', 'black', 'green'])\n",
        "ax.pcolormesh(path_grid, cmap = cmap, zorder=1)\n",
        "ax.grid(True, color=\"grey\", lw=2)\n",
        "ax.text(0.5, 0.5, 'Begin', ha='center', va='center',color='white',fontweight='bold')\n",
        "ax.text(6.5, 6.5, 'Goal', ha='center', va='center',color='white',fontweight='bold')\n",
        "\n",
        "plt.axes().set_aspect('equal') \n",
        "plt.axes().invert_yaxis()\n",
        "plt.title(\"Optimal Path\")\n",
        "plt.show()"
      ],
      "execution_count": 192,
      "outputs": [
        {
          "output_type": "display_data",
          "data": {
            "image/png": "[encoded data removed]",
            "text/plain": [
              "<Figure size 360x360 with 1 Axes>"
            ]
          },
          "metadata": {
            "tags": [],
            "needs_background": "light"
          }
        }
      ]
    },
    {
      "cell_type": "markdown",
      "metadata": {
        "id": "XAchoVrxraay",
        "colab_type": "text"
      },
      "source": [
        "#Please open Created GIF called as animation.gif after running this, if on collabratory"
      ]
    },
    {
      "cell_type": "code",
      "metadata": {
        "id": "_ySqwh5doYUB",
        "colab_type": "code",
        "colab": {
          "base_uri": "https://localhost:8080/",
          "height": 324
        },
        "outputId": "d1a554fa-a5de-4340-99e7-f4c6ceb65d68"
      },
      "source": [
        "from matplotlib.animation import FuncAnimation\n",
        "\n",
        "fig = plt.figure(figsize=(5,5))\n",
        "ax = fig.add_subplot(111)\n",
        "\n",
        "ax.text(0.5, 0.5, 'Begin', ha='center', va='center',color='white',fontweight='bold')\n",
        "ax.text(6.5, 6.5, 'Goal', ha='center', va='center',color='white',fontweight='bold')\n",
        "\n",
        "\n",
        "def step(i):\n",
        "  path_grid = grid.copy()\n",
        "  for idx in path[0:i+1]:\n",
        "    c,r = idx[0], idx[1]\n",
        "    path_grid [c, r] = 2\n",
        "    ax.text(r+0.5, c+0.5, '-', ha='center', va='center')\n",
        "  cmap = colors.ListedColormap(['silver', 'black', 'green'])\n",
        "  ax.pcolormesh(path_grid, cmap = cmap, zorder=1)\n",
        "  ax.grid(True, color=\"grey\", lw=2)\n",
        "  return ax\n",
        "\n",
        "\n",
        "anim = FuncAnimation(fig, step, frames=np.arange(0, len(path)), interval=200)\n",
        "\n",
        "plt.axes().invert_yaxis()\n",
        "anim.save('animation.gif', dpi=80, writer='imagemagick')\n",
        "#plt.show() "
      ],
      "execution_count": 193,
      "outputs": [
        {
          "output_type": "display_data",
          "data": {
            "image/png": "[encoded data removed]",
            "text/plain": [
              "<Figure size 360x360 with 1 Axes>"
            ]
          },
          "metadata": {
            "tags": [],
            "needs_background": "light"
          }
        }
      ]
    },
    {
      "cell_type": "code",
      "metadata": {
        "id": "51QFDPMDodCo",
        "colab_type": "code",
        "colab": {}
      },
      "source": [
        ""
      ],
      "execution_count": 0,
      "outputs": []
    },
    {
      "cell_type": "code",
      "metadata": {
        "id": "3QPrkhmBqgfC",
        "colab_type": "code",
        "colab": {}
      },
      "source": [
        ""
      ],
      "execution_count": 0,
      "outputs": []
    }
  ]
}